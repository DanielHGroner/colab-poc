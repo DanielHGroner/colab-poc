{
 "cells": [
  {
   "cell_type": "markdown",
   "id": "1a483331",
   "metadata": {},
   "source": [
    "### colab-poc-hello\n",
    "#### Simplest notebook for launching colab from a URL"
   ]
  },
  {
   "cell_type": "code",
   "execution_count": 1,
   "id": "45640fc5",
   "metadata": {},
   "outputs": [
    {
     "name": "stdout",
     "output_type": "stream",
     "text": [
      "hello colab\n"
     ]
    }
   ],
   "source": [
    "print('hello colab')"
   ]
  },
  {
   "cell_type": "code",
   "execution_count": 2,
   "id": "02fb55ea",
   "metadata": {},
   "outputs": [],
   "source": [
    "i = 1"
   ]
  },
  {
   "cell_type": "code",
   "execution_count": 3,
   "id": "15692e8d",
   "metadata": {},
   "outputs": [
    {
     "data": {
      "text/plain": [
       "1"
      ]
     },
     "execution_count": 3,
     "metadata": {},
     "output_type": "execute_result"
    }
   ],
   "source": [
    "i"
   ]
  },
  {
   "cell_type": "code",
   "execution_count": null,
   "id": "9f581d35",
   "metadata": {},
   "outputs": [],
   "source": []
  }
 ],
 "metadata": {
  "kernelspec": {
   "display_name": "Python 3 (ipykernel)",
   "language": "python",
   "name": "python3"
  },
  "language_info": {
   "codemirror_mode": {
    "name": "ipython",
    "version": 3
   },
   "file_extension": ".py",
   "mimetype": "text/x-python",
   "name": "python",
   "nbconvert_exporter": "python",
   "pygments_lexer": "ipython3",
   "version": "3.9.7"
  }
 },
 "nbformat": 4,
 "nbformat_minor": 5
}
